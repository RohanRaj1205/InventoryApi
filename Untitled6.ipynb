{
  "nbformat": 4,
  "nbformat_minor": 0,
  "metadata": {
    "colab": {
      "provenance": [],
      "authorship_tag": "ABX9TyMBh+2nAuZ31D+rKR7YMG5q",
      "include_colab_link": true
    },
    "kernelspec": {
      "name": "python3",
      "display_name": "Python 3"
    },
    "language_info": {
      "name": "python"
    }
  },
  "cells": [
    {
      "cell_type": "markdown",
      "metadata": {
        "id": "view-in-github",
        "colab_type": "text"
      },
      "source": [
        "<a href=\"https://colab.research.google.com/github/RohanRaj1205/InventoryApi/blob/main/Untitled6.ipynb\" target=\"_parent\"><img src=\"https://colab.research.google.com/assets/colab-badge.svg\" alt=\"Open In Colab\"/></a>"
      ]
    },
    {
      "cell_type": "code",
      "execution_count": 1,
      "metadata": {
        "colab": {
          "base_uri": "https://localhost:8080/"
        },
        "id": "h3xnYGwhpS_F",
        "outputId": "d46eba79-6a4f-492c-d022-713277e34b06"
      },
      "outputs": [
        {
          "output_type": "stream",
          "name": "stdout",
          "text": [
            "   Id  Name  Quantity     Location\n",
            "0   2  Tire        50  Warehouse B\n"
          ]
        }
      ],
      "source": [
        "import sqlite3\n",
        "import pandas as pd\n",
        "\n",
        "conn = sqlite3.connect(':memory:')\n",
        "cursor = conn.cursor()\n",
        "\n",
        "cursor.execute('''\n",
        "    CREATE TABLE Items (\n",
        "        Id INTEGER PRIMARY KEY,\n",
        "        Name TEXT,\n",
        "        Quantity INTEGER,\n",
        "        Location TEXT\n",
        "    )\n",
        "''')\n",
        "\n",
        "cursor.execute(\"INSERT INTO Items (Name, Quantity, Location) VALUES (?, ?, ?)\",\n",
        "               ('Battery Pack', 10, 'Warehouse A'))\n",
        "cursor.execute(\"INSERT INTO Items (Name, Quantity, Location) VALUES (?, ?, ?)\",\n",
        "               ('Tire', 50, 'Warehouse B'))\n",
        "conn.commit()\n",
        "\n",
        "df = pd.read_sql_query(\"SELECT * FROM Items WHERE Quantity > 20\", conn)\n",
        "print(df)"
      ]
    },
    {
      "cell_type": "code",
      "source": [
        "df = pd.read_sql_query(\"SELECT Location, SUM(Quantity) as TotalQuantity FROM Items GROUP BY Location\", conn)\n",
        "print(df)"
      ],
      "metadata": {
        "colab": {
          "base_uri": "https://localhost:8080/"
        },
        "id": "nkKLE9cdp14F",
        "outputId": "6b48f93e-0e78-453d-d87f-c7fc9f82ef9e"
      },
      "execution_count": 2,
      "outputs": [
        {
          "output_type": "stream",
          "name": "stdout",
          "text": [
            "      Location  TotalQuantity\n",
            "0  Warehouse A             10\n",
            "1  Warehouse B             50\n"
          ]
        }
      ]
    }
  ]
}